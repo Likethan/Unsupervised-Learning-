{
  "nbformat": 4,
  "nbformat_minor": 0,
  "metadata": {
    "colab": {
      "provenance": []
    },
    "kernelspec": {
      "name": "python3",
      "display_name": "Python 3"
    },
    "language_info": {
      "name": "python"
    }
  },
  "cells": [
    {
      "cell_type": "code",
      "execution_count": null,
      "metadata": {
        "id": "AHwGSzxFfdiN"
      },
      "outputs": [],
      "source": [
        "import pandas as pd\n",
        "import numpy as np\n",
        "from sklearn.ensemble import IsolationForest\n",
        "import matplotlib.pyplot as plt\n",
        "import seaborn as sns\n",
        "\n",
        "# Example: Create sample data\n",
        "rng = np.random.RandomState(42)\n",
        "\n",
        "# Generate normal data\n",
        "normal_data = 0.3 * rng.randn(100, 2)\n",
        "normal_data = np.r_[normal_data + 2, normal_data - 2]\n",
        "\n",
        "# Generate some outliers\n",
        "outliers = rng.uniform(low=-6, high=6, size=(20, 2))\n",
        "\n",
        "# Combine into one dataset\n",
        "X = np.r_[normal_data, outliers]\n",
        "\n",
        "# Convert to DataFrame\n",
        "df = pd.DataFrame(X, columns=['Feature1', 'Feature2'])\n",
        "\n",
        "# Plot the raw data\n",
        "plt.figure(figsize=(8, 6))\n",
        "sns.scatterplot(data=df, x='Feature1', y='Feature2')\n",
        "plt.title(\"Raw Data\")\n",
        "plt.grid(True)\n",
        "plt.show()\n",
        "\n",
        "# Fit Isolation Forest\n",
        "iso_forest = IsolationForest(contamination=0.1, random_state=42)\n",
        "df['anomaly'] = iso_forest.fit_predict(df[['Feature1', 'Feature2']])\n",
        "\n",
        "# anomaly = -1 (outlier), 1 (normal)\n",
        "outliers_df = df[df['anomaly'] == -1]\n",
        "inliers_df = df[df['anomaly'] == 1]\n",
        "\n",
        "# Visualize\n",
        "plt.figure(figsize=(8, 6))\n",
        "sns.scatterplot(x='Feature1', y='Feature2', data=inliers_df, label='Normal')\n",
        "sns.scatterplot(x='Feature1', y='Feature2', data=outliers_df, label='Anomaly', color='r')\n",
        "plt.title(\"Anomaly Detection with Isolation Forest\")\n",
        "plt.legend()\n",
        "plt.grid(True)\n",
        "plt.show()\n"
      ]
    }
  ]
}