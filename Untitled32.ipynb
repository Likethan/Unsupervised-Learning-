{
  "nbformat": 4,
  "nbformat_minor": 0,
  "metadata": {
    "colab": {
      "provenance": []
    },
    "kernelspec": {
      "name": "python3",
      "display_name": "Python 3"
    },
    "language_info": {
      "name": "python"
    }
  },
  "cells": [
    {
      "cell_type": "code",
      "execution_count": null,
      "metadata": {
        "id": "xVQmlBGqhfwj"
      },
      "outputs": [],
      "source": [
        "import numpy as np\n",
        "import pandas as pd\n",
        "import matplotlib.pyplot as plt\n",
        "from scipy.cluster.hierarchy import linkage, dendrogram\n",
        "from sklearn.datasets import load_iris\n",
        "\n",
        "# Load sample data\n",
        "data = load_iris()\n",
        "X = data.data\n",
        "\n",
        "# Compute linkage matrix\n",
        "linked = linkage(X, method='ward')\n",
        "\n",
        "# Plot dendrogram\n",
        "plt.figure(figsize=(10, 6))\n",
        "dendrogram(linked,\n",
        "           orientation='top',\n",
        "           distance_sort='descending',\n",
        "           show_leaf_counts=True)\n",
        "plt.title('Hierarchical Clustering Dendrogram (Ward linkage)')\n",
        "plt.xlabel('Data Points')\n",
        "plt.ylabel('Euclidean Distance')\n",
        "plt.show()\n"
      ]
    },
    {
      "cell_type": "code",
      "source": [
        "from scipy.cluster.hierarchy import fcluster\n",
        "\n",
        "# Get cluster labels\n",
        "labels = fcluster(linked, t=3, criterion='maxclust')  # t = number of clusters\n",
        "print(labels)\n"
      ],
      "metadata": {
        "id": "OyY9AUprhz00"
      },
      "execution_count": null,
      "outputs": []
    }
  ]
}